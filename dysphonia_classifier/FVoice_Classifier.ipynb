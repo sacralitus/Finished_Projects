{
 "cells": [
  {
   "cell_type": "code",
   "execution_count": 1,
   "metadata": {},
   "outputs": [],
   "source": [
    "import warnings\n",
    "warnings.filterwarnings(\"ignore\", category=DeprecationWarning)\n",
    "import matplotlib.pyplot as plt\n",
    "from sklearn.model_selection import cross_val_score\n",
    "import numpy as np\n",
    "import pandas as pd\n",
    "import random\n",
    "import seaborn as sns\n",
    "from sklearn.model_selection import train_test_split\n",
    "from sklearn.metrics import accuracy_score, classification_report, roc_auc_score \n",
    "from sklearn import svm\n",
    "from sklearn.model_selection import GridSearchCV"
   ]
  },
  {
   "cell_type": "markdown",
   "metadata": {},
   "source": [
    "## Read CSV, Preprocessing Data"
   ]
  },
  {
   "cell_type": "code",
   "execution_count": 39,
   "metadata": {
    "scrolled": true
   },
   "outputs": [],
   "source": [
    "pathology = pd.read_csv('pathology_results.csv')\n",
    "normal = pd.read_csv('norm_results.csv')\n",
    "\n",
    "#избавление от сэмплов со звуком \"и\"\n",
    "pathology.drop(pathology[pathology['voiceID'].str.contains('a') == False].index,inplace=True)\n",
    "normal.drop(normal[normal['voiceID'].str.contains('a') == False].index,inplace = True)\n",
    "\n",
    "#избавление от мужских сэмплов\n",
    "pathology.drop(pathology[pathology['voiceID'].str.contains('m') == True].index, inplace=True)\n",
    "normal.drop(normal[normal['voiceID'].str.contains('m') == True].index, inplace=True)"
   ]
  },
  {
   "cell_type": "markdown",
   "metadata": {},
   "source": [
    "## Class Equalling"
   ]
  },
  {
   "cell_type": "code",
   "execution_count": 40,
   "metadata": {},
   "outputs": [
    {
     "name": "stdout",
     "output_type": "stream",
     "text": [
      "Normal voices samples: (276, 8)\n",
      "Pathological voices samples: (256, 8)\n"
     ]
    }
   ],
   "source": [
    "pathology = pathology.iloc[:,1:]\n",
    "\n",
    "# увеличение патологической выборки в два раза\n",
    "pathology = pd.concat([pathology, pathology])\n",
    "pathology['label'] = 'p'\n",
    "\n",
    "normal = normal.iloc[:,1:]\n",
    "normal['label'] = 'h'\n",
    "\n",
    "\n",
    "print('Normal voices samples:',normal.shape)\n",
    "print('Pathological voices samples:',pathology.shape)"
   ]
  },
  {
   "cell_type": "code",
   "execution_count": 34,
   "metadata": {
    "scrolled": true
   },
   "outputs": [
    {
     "data": {
      "text/html": [
       "<div>\n",
       "<style scoped>\n",
       "    .dataframe tbody tr th:only-of-type {\n",
       "        vertical-align: middle;\n",
       "    }\n",
       "\n",
       "    .dataframe tbody tr th {\n",
       "        vertical-align: top;\n",
       "    }\n",
       "\n",
       "    .dataframe thead th {\n",
       "        text-align: right;\n",
       "    }\n",
       "</style>\n",
       "<table border=\"1\" class=\"dataframe\">\n",
       "  <thead>\n",
       "    <tr style=\"text-align: right;\">\n",
       "      <th></th>\n",
       "      <th>meanF0Hz</th>\n",
       "      <th>stdevF0Hz</th>\n",
       "      <th>HNR</th>\n",
       "      <th>localJitter</th>\n",
       "      <th>ppq5Jitter</th>\n",
       "      <th>localShimmer</th>\n",
       "      <th>apq11Shimmer</th>\n",
       "      <th>label</th>\n",
       "    </tr>\n",
       "  </thead>\n",
       "  <tbody>\n",
       "    <tr>\n",
       "      <th>0</th>\n",
       "      <td>273.066032</td>\n",
       "      <td>8.137112</td>\n",
       "      <td>4.923343</td>\n",
       "      <td>0.033614</td>\n",
       "      <td>0.020712</td>\n",
       "      <td>0.111561</td>\n",
       "      <td>0.097909</td>\n",
       "      <td>p</td>\n",
       "    </tr>\n",
       "    <tr>\n",
       "      <th>2</th>\n",
       "      <td>260.920623</td>\n",
       "      <td>6.093177</td>\n",
       "      <td>3.650458</td>\n",
       "      <td>0.043765</td>\n",
       "      <td>0.028389</td>\n",
       "      <td>0.103721</td>\n",
       "      <td>0.091496</td>\n",
       "      <td>p</td>\n",
       "    </tr>\n",
       "    <tr>\n",
       "      <th>3</th>\n",
       "      <td>248.684460</td>\n",
       "      <td>1.323849</td>\n",
       "      <td>20.433904</td>\n",
       "      <td>0.003035</td>\n",
       "      <td>0.001855</td>\n",
       "      <td>0.005271</td>\n",
       "      <td>0.004229</td>\n",
       "      <td>p</td>\n",
       "    </tr>\n",
       "    <tr>\n",
       "      <th>5</th>\n",
       "      <td>215.480959</td>\n",
       "      <td>1.535190</td>\n",
       "      <td>18.137807</td>\n",
       "      <td>0.004929</td>\n",
       "      <td>0.002612</td>\n",
       "      <td>0.055351</td>\n",
       "      <td>0.046380</td>\n",
       "      <td>p</td>\n",
       "    </tr>\n",
       "    <tr>\n",
       "      <th>6</th>\n",
       "      <td>273.437766</td>\n",
       "      <td>18.424732</td>\n",
       "      <td>12.616350</td>\n",
       "      <td>0.006140</td>\n",
       "      <td>0.003541</td>\n",
       "      <td>0.111213</td>\n",
       "      <td>0.077804</td>\n",
       "      <td>p</td>\n",
       "    </tr>\n",
       "  </tbody>\n",
       "</table>\n",
       "</div>"
      ],
      "text/plain": [
       "     meanF0Hz  stdevF0Hz        HNR  localJitter  ppq5Jitter  localShimmer  \\\n",
       "0  273.066032   8.137112   4.923343     0.033614    0.020712      0.111561   \n",
       "2  260.920623   6.093177   3.650458     0.043765    0.028389      0.103721   \n",
       "3  248.684460   1.323849  20.433904     0.003035    0.001855      0.005271   \n",
       "5  215.480959   1.535190  18.137807     0.004929    0.002612      0.055351   \n",
       "6  273.437766  18.424732  12.616350     0.006140    0.003541      0.111213   \n",
       "\n",
       "   apq11Shimmer label  \n",
       "0      0.097909     p  \n",
       "2      0.091496     p  \n",
       "3      0.004229     p  \n",
       "5      0.046380     p  \n",
       "6      0.077804     p  "
      ]
     },
     "execution_count": 34,
     "metadata": {},
     "output_type": "execute_result"
    }
   ],
   "source": [
    "pathology.head()"
   ]
  },
  {
   "cell_type": "markdown",
   "metadata": {},
   "source": [
    "## All Voices Summarization"
   ]
  },
  {
   "cell_type": "code",
   "execution_count": 41,
   "metadata": {
    "scrolled": true
   },
   "outputs": [],
   "source": [
    "voices = pd.concat([normal,pathology])"
   ]
  },
  {
   "cell_type": "code",
   "execution_count": 42,
   "metadata": {
    "scrolled": true
   },
   "outputs": [
    {
     "name": "stdout",
     "output_type": "stream",
     "text": [
      "All voice samples (532, 7)\n"
     ]
    }
   ],
   "source": [
    "X = voices.iloc[:,:-1]\n",
    "y = voices.iloc[:,-1]\n",
    "print(\"All voice samples\", X.shape)"
   ]
  },
  {
   "cell_type": "markdown",
   "metadata": {},
   "source": [
    "## Statistics and Scaling"
   ]
  },
  {
   "cell_type": "code",
   "execution_count": 66,
   "metadata": {},
   "outputs": [
    {
     "name": "stdout",
     "output_type": "stream",
     "text": [
      "Pathology train: 179\n",
      "Normal train: 193\n",
      "Pathology test: 77\n",
      "Normal test: 83\n",
      "Min значение признака после масштабирования: [0. 0. 0. 0. 0. 0. 0.]\n",
      "Max значение признака после масштабирования: [1. 1. 1. 1. 1. 1. 1.]\n"
     ]
    }
   ],
   "source": [
    "from sklearn.preprocessing import MinMaxScaler\n",
    "\n",
    "X_train, X_test, y_train, y_test = train_test_split(X,y, train_size = 0.7, test_size = 0.3, shuffle=True,\n",
    "                                                    stratify=y)\n",
    "print(\"Pathology train:\", y_train[y_train.str.contains('p')==True].shape[0])\n",
    "print(\"Normal train:\", y_train[y_train.str.contains('p')==False].shape[0])\n",
    "print(\"Pathology test:\", y_test[y_test.str.contains('p')==True].shape[0])\n",
    "print(\"Normal test:\", y_test[y_test.str.contains('p')==False].shape[0])\n",
    "\n",
    "\n",
    "scaler = MinMaxScaler()\n",
    "\n",
    "X_train_scaled = scaler.fit_transform(X_train)\n",
    "X_test_scaled = scaler.fit_transform(X_test)\n",
    "print(\"Min значение признака после масштабирования:\", X_test_scaled.min(axis=0))\n",
    "print(\"Max значение признака после масштабирования:\", X_test_scaled.max(axis=0))\n",
    "scaler.fit(X)\n",
    "X_scaled = scaler.transform(X)"
   ]
  },
  {
   "cell_type": "markdown",
   "metadata": {},
   "source": [
    "# Support Vector Machine"
   ]
  },
  {
   "cell_type": "code",
   "execution_count": 67,
   "metadata": {},
   "outputs": [
    {
     "name": "stdout",
     "output_type": "stream",
     "text": [
      "Best score: 0.7768817204301075\n",
      "Best parameters: {'C': 100.0, 'gamma': 150, 'kernel': 'rbf'}\n",
      "\n",
      "               precision    recall  f1-score   support\n",
      "\n",
      "      health       0.86      0.67      0.76        83\n",
      "   pathology       0.72      0.88      0.79        77\n",
      "\n",
      "   micro avg       0.78      0.78      0.78       160\n",
      "   macro avg       0.79      0.78      0.77       160\n",
      "weighted avg       0.79      0.78      0.77       160\n",
      "\n",
      "Accuracy on test: 0.775\n"
     ]
    },
    {
     "name": "stderr",
     "output_type": "stream",
     "text": [
      "/home/silenos/.local/lib/python3.7/site-packages/sklearn/model_selection/_search.py:841: DeprecationWarning: The default of the `iid` parameter will change from True to False in version 0.22 and will be removed in 0.24. This will change numeric results when test-set sizes are unequal.\n",
      "  DeprecationWarning)\n"
     ]
    }
   ],
   "source": [
    "parameters = {'kernel':['rbf','linear'], 'C':[0.1,1.0,5.0,10.0,50.0,100.0], 'gamma':[1,3,5,10,50,100,150]}\n",
    "svc = svm.SVC(probability=True)\n",
    "\n",
    "clf = GridSearchCV(svc,parameters,cv=5)\n",
    "clf.fit(X_train_scaled, y_train)\n",
    "print(\"Best score:\", clf.best_score_)\n",
    "print(\"Best parameters:\", clf.best_params_)\n",
    "\n",
    "clf = clf.best_estimator_\n",
    "print('\\n',classification_report(y_test, clf.predict(X_test_scaled), target_names=['health', 'pathology']))\n",
    "print(\"Accuracy on test:\",accuracy_score(y_test, clf.predict(X_test_scaled)))"
   ]
  },
  {
   "cell_type": "code",
   "execution_count": 68,
   "metadata": {},
   "outputs": [
    {
     "name": "stdout",
     "output_type": "stream",
     "text": [
      "[0.83333333 0.83333333 0.75925926 0.92592593 0.7962963  0.87037037\n",
      " 0.98076923 0.82692308 0.76923077 0.84615385]\n"
     ]
    },
    {
     "data": {
      "text/plain": [
       "Text(0.5, 1.0, 'Average score: 0.8441595441595441')"
      ]
     },
     "execution_count": 68,
     "metadata": {},
     "output_type": "execute_result"
    },
    {
     "data": {
      "image/png": "[encoded data removed]",
      "text/plain": [
       "<Figure size 432x288 with 1 Axes>"
      ]
     },
     "metadata": {
      "needs_background": "light"
     },
     "output_type": "display_data"
    }
   ],
   "source": [
    "cv_scores = cross_val_score(clf, X_scaled, y, cv=10)\n",
    "print(cv_scores)\n",
    "sns.distplot(cv_scores)\n",
    "plt.title('Average score: {}'.format(np.mean(cv_scores)))"
   ]
  },
  {
   "cell_type": "markdown",
   "metadata": {},
   "source": [
    "# GradientBoostingClassifier"
   ]
  },
  {
   "cell_type": "code",
   "execution_count": 70,
   "metadata": {
    "scrolled": false
   },
   "outputs": [
    {
     "name": "stdout",
     "output_type": "stream",
     "text": [
      "Best score: 0.8225806451612904\n",
      "Best parameters: {'learning_rate': 0.2, 'max_depth': 5, 'n_estimators': 34}\n",
      "\n",
      "               precision    recall  f1-score   support\n",
      "\n",
      "      health       0.92      0.86      0.89        83\n",
      "   pathology       0.86      0.92      0.89        77\n",
      "\n",
      "   micro avg       0.89      0.89      0.89       160\n",
      "   macro avg       0.89      0.89      0.89       160\n",
      "weighted avg       0.89      0.89      0.89       160\n",
      "\n",
      "Accuracy test score: 0.8875\n"
     ]
    },
    {
     "name": "stderr",
     "output_type": "stream",
     "text": [
      "/home/silenos/.local/lib/python3.7/site-packages/sklearn/model_selection/_search.py:841: DeprecationWarning: The default of the `iid` parameter will change from True to False in version 0.22 and will be removed in 0.24. This will change numeric results when test-set sizes are unequal.\n",
      "  DeprecationWarning)\n"
     ]
    },
    {
     "data": {
      "image/png": "[encoded data removed]",
      "text/plain": [
       "<Figure size 432x288 with 1 Axes>"
      ]
     },
     "metadata": {
      "needs_background": "light"
     },
     "output_type": "display_data"
    }
   ],
   "source": [
    "from sklearn.ensemble import GradientBoostingClassifier\n",
    "\n",
    "GB = GradientBoostingClassifier(random_state = 12)\n",
    "params = {'learning_rate':[0.1,0.2,0.3, 0.4, 0.5],'n_estimators':[4,8,12,24,34,50], 'max_depth':[1,2,3,4,5]}\n",
    "clf = GridSearchCV(GB,params,cv=10)\n",
    "clf.fit(X_train, y_train)\n",
    "print(\"Best score:\", clf.best_score_)\n",
    "print(\"Best parameters:\", clf.best_params_)\n",
    "clf = clf.best_estimator_\n",
    "\n",
    "def plot_feature_importances(model):\n",
    "    n_features = X.shape[1]\n",
    "    plt.barh(range(n_features), model.feature_importances_, align='center')\n",
    "    plt.yticks(np.arange(n_features), X.iloc[:])\n",
    "    plt.xlabel(\"Важность признака\")\n",
    "    plt.ylabel(\"Признак\")\n",
    "    \n",
    "plot_feature_importances(clf)\n",
    "print('\\n',classification_report(y_test,clf.predict(X_test), target_names=['health', 'pathology']))\n",
    "print('Accuracy test score:', accuracy_score(y_test,clf.predict(X_test)))"
   ]
  },
  {
   "cell_type": "code",
   "execution_count": 64,
   "metadata": {},
   "outputs": [
    {
     "name": "stdout",
     "output_type": "stream",
     "text": [
      "[0.90740741 0.85185185 0.87037037 0.85185185 0.77777778 0.90740741\n",
      " 0.92307692 0.84615385 0.78846154 0.88461538]\n"
     ]
    },
    {
     "data": {
      "text/plain": [
       "Text(0.5, 1.0, 'Average score: 0.860897435897436')"
      ]
     },
     "execution_count": 64,
     "metadata": {},
     "output_type": "execute_result"
    },
    {
     "data": {
      "image/png": "[encoded data removed]",
      "text/plain": [
       "<Figure size 432x288 with 1 Axes>"
      ]
     },
     "metadata": {
      "needs_background": "light"
     },
     "output_type": "display_data"
    }
   ],
   "source": [
    "cv_scores = cross_val_score(clf, X, y, cv=10)\n",
    "print(cv_scores)\n",
    "sns.distplot(cv_scores)\n",
    "plt.title('Average score: {}'.format(np.mean(cv_scores)))"
   ]
  },
  {
   "cell_type": "markdown",
   "metadata": {},
   "source": [
    "## Saving Classifier"
   ]
  },
  {
   "cell_type": "code",
   "execution_count": 102,
   "metadata": {},
   "outputs": [],
   "source": [
    "import pickle\n",
    "pickle.dump(clf, open('GB_model.sav','wb'))"
   ]
  },
  {
   "cell_type": "code",
   "execution_count": 103,
   "metadata": {},
   "outputs": [
    {
     "name": "stdout",
     "output_type": "stream",
     "text": [
      "(7,)\n",
      "Dysphonic probability: 98.1 %\n"
     ]
    }
   ],
   "source": [
    "clf = pickle.load(open('GradientBoosting_model.sav','rb'))\n",
    "arr = np.array([1,1,5,0.1,0.6,1,7])\n",
    "print(arr.shape)\n",
    "print(\"Dysphonic probability:\", round(clf.predict_proba([arr])[:,1][0]*100,1),'%')"
   ]
  }
 ],
 "metadata": {
  "kernelspec": {
   "display_name": "Python 3",
   "language": "python",
   "name": "python3"
  },
  "language_info": {
   "codemirror_mode": {
    "name": "ipython",
    "version": 3
   },
   "file_extension": ".py",
   "mimetype": "text/x-python",
   "name": "python",
   "nbconvert_exporter": "python",
   "pygments_lexer": "ipython3",
   "version": "3.8.10"
  }
 },
 "nbformat": 4,
 "nbformat_minor": 2
}
