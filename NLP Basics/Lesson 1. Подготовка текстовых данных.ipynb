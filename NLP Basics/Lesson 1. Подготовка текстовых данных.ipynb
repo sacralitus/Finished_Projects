{
 "cells": [
  {
   "cell_type": "markdown",
   "metadata": {},
   "source": [
    "# <center>  Основы NLP \n",
    "<center>\n",
    "<img src=\"https://miro.medium.com/max/2672/1*_Nb5AADlqVQJDa0YyNFKGA.jpeg\">\n",
    "     \n",
    "## <center> Часть 1. Подготовка текстовых данных"
   ]
  },
  {
   "cell_type": "markdown",
   "metadata": {},
   "source": [
    "### <center> 1. Очистка данных (Data Refinement)\n",
    "Даны 3 предложения разного языка и содержания. Попробуем очистить их от зашумленности (знаков пунктуации, stop-words)"
   ]
  },
  {
   "cell_type": "code",
   "execution_count": null,
   "metadata": {},
   "outputs": [],
   "source": [
    "data = [\"Вчера была достаточно приятная погода. Сходил погулять... и ни капли не пожалел! \",\n",
    "        \" Jack peacefully drown in his armchair; Robin made no sign of disgust. \",\n",
    "        \"Als ich in Minsk war, war ich erstaunt, wie langweilig die Leute hier waren!!!\"]"
   ]
  },
  {
   "cell_type": "markdown",
   "metadata": {},
   "source": [
    "Разнообразную работу с паттернами текстовых данных предлагает библиотека <i>**re**</i> (регулярные выражения).<br>\n",
    "Еще более обширные возможности для работы с текстом содержит библиотека <i>**nltk**</i>, с которой мы немного ознакомимся в течение урока.\n",
    "\n",
    "\n",
    "**В первую очередь просмотрим, какие стоп-слова содержит библиотека nltk для 3 языков (немецкий, английский, русский)**"
   ]
  },
  {
   "cell_type": "code",
   "execution_count": null,
   "metadata": {},
   "outputs": [],
   "source": [
    "from nltk.corpus import stopwords\n",
    "import re\n",
    "for i in ['russian','english','german']:\n",
    "    print('\\nLanguage:',i, '\\nStop-words:', *stopwords.words(i) )"
   ]
  },
  {
   "cell_type": "markdown",
   "metadata": {},
   "source": [
    "**Создадим функцию preprocess_data, с помощью которой все посланные на вход предложения очищаются от стоп-слов и знаков препинания**"
   ]
  },
  {
   "cell_type": "code",
   "execution_count": null,
   "metadata": {},
   "outputs": [],
   "source": [
    "def preprocess_data(data):# подаём на вход функции список со всеми предложениями\n",
    "    \n",
    "    preprocessed_data = []\n",
    "    for sent in data:\n",
    "        sent = re.sub('[^a-zA-Zа-яА-Я]+', ' ', sent).strip().lower() # удаление пунктуации, пробелов + lower case \n",
    "        sent = [x for x in sent.split() if x not in [*stopwords.words('english'), \n",
    "                                                     *stopwords.words('russian'),\n",
    "                                                     *stopwords.words('german')]]\n",
    "        sent = ' '.join(sent)\n",
    "        preprocessed_data += [sent] # пополнение списка очищенным предложением\n",
    "        \n",
    "    return preprocessed_data # возвращаем очищенные предложения"
   ]
  },
  {
   "cell_type": "markdown",
   "metadata": {},
   "source": [
    "#### Смотрим, что получилось и радуемся чистоте!"
   ]
  },
  {
   "cell_type": "code",
   "execution_count": null,
   "metadata": {},
   "outputs": [],
   "source": [
    "preprocessed_data = preprocess_data(data)\n",
    "for i in range(len(data)):\n",
    "    print(\"\\nБыло: \", data[i], \"\\nСтало:\", preprocessed_data[i])"
   ]
  },
  {
   "cell_type": "markdown",
   "metadata": {},
   "source": [
    "### <center> 2. Токенизация"
   ]
  },
  {
   "cell_type": "markdown",
   "metadata": {},
   "source": [
    "**Токенизация** - разбиение массива текстовых данных на токены (абзацы, предложения, слова, символы).<br>\n",
    "Самая примитвная токенизация - метод <i>split</i> в Python. Там вы можете сплитить текст по <i>пробелам, /n, /t и другим символам.</i><br> \n",
    "Библиотека <i>**NLTK**</i> предлагает свои модули для токенизации."
   ]
  },
  {
   "cell_type": "markdown",
   "metadata": {},
   "source": [
    "Пусть нам дано предложение <i>“John's big idea isn't all that bad.”</i><br> \n",
    "Нам нужно получить токены, составляющие его. Сравните стандартный метод <i>split</i> c <i>word_tokenize</i>:"
   ]
  },
  {
   "cell_type": "code",
   "execution_count": null,
   "metadata": {},
   "outputs": [],
   "source": [
    "from nltk import word_tokenize\n",
    "\n",
    "sent1 = \"John's a big idea on his mind.\"\n",
    "sent2 = \"John's big idea isn't all that bad.\"\n",
    "\n",
    "print(sent1, \"\\n\\nNTLK токенизатор:\", word_tokenize(sent1))\n",
    "print(\"Стандартный сплиттер:\", sent1.split(' '))\n",
    "print('_'*100, '\\n')\n",
    "print(sent2, \"\\n\\nNTLK токенизатор:\", word_tokenize(sent2))\n",
    "print(\"Стандартный сплиттер:\", sent2.split(' '))"
   ]
  },
  {
   "cell_type": "markdown",
   "metadata": {},
   "source": [
    "<br><br>Также в <i>**NLTK**</i> встроен PoS-tagger, позволяющий нам определять части речи.<br>\n",
    "Токенизируем текст сначала по предложениям, потом по словам, а затем выявим для каждого слова его часть речи (PoS tag).\n",
    "Заметьте, что делает pos tagger, если не знает части речи:"
   ]
  },
  {
   "cell_type": "code",
   "execution_count": null,
   "metadata": {},
   "outputs": [],
   "source": [
    "from nltk import word_tokenize, sent_tokenize, pos_tag\n",
    "\n",
    "text = \"Good muffins cost $ 3.88 in New-York. Please buy me two of them. Thanks.\"\n",
    "sentences=sent_tokenize(text)\n",
    "\n",
    "for sent in sentences:\n",
    "    s = pos_tag(word_tokenize(sent))\n",
    "    print(*[f'{i[0]} = {i[1]}' for i in s],sep='\\n')"
   ]
  },
  {
   "cell_type": "markdown",
   "metadata": {},
   "source": [
    "Расшифровка тэгов для тех, кто ничего  не понял:\n",
    "<img src=\"https://d2h0cx97tjks2p.cloudfront.net/blogs/wp-content/uploads/sites/2/2018/08/speech-tagging.png\">"
   ]
  },
  {
   "cell_type": "markdown",
   "metadata": {},
   "source": [
    "### <center> 3. Лемматизация и стемминг"
   ]
  },
  {
   "cell_type": "markdown",
   "metadata": {},
   "source": [
    "**Лемматизация** и **стемминг** - методы нормализации текста.<br> Лемматизация отвечает за приведение слова к его начальной форме, стемминг - за приведение слова к его квазиоснове."
   ]
  },
  {
   "cell_type": "markdown",
   "metadata": {},
   "source": [
    "Начнём с лемматизации. <br>\n",
    "Как ни странно, и здесь <i>**NLTK**</i> предлагает свой лемматизатор (однако только для английского).\n",
    "<font color='blue'><br>Обязательно добавлять в pos части речи, иначе лемматизатор не заработает!!!</font>"
   ]
  },
  {
   "cell_type": "code",
   "execution_count": null,
   "metadata": {
    "scrolled": true
   },
   "outputs": [],
   "source": [
    "from nltk.stem import WordNetLemmatizer\n",
    "wnl = WordNetLemmatizer()\n",
    "\n",
    "print(\"NOUNS:\")\n",
    "print('beauties -->', wnl.lemmatize('beauties', pos=\"n\"))\n",
    "print('antennae -->',wnl.lemmatize('antennae', pos=\"n\"))\n",
    "print('cacti -->',wnl.lemmatize('cacti', pos=\"n\"))\n",
    "print('feet -->',wnl.lemmatize('feet', pos=\"n\"))"
   ]
  },
  {
   "cell_type": "markdown",
   "metadata": {},
   "source": [
    "**А теперь поиграем в одну игру**<br>\n",
    "Вспомните то, что всегда хотели лемматизировать и запустите блок.<br>Введите желаемое слово и его тэг (a, v or n) и лемматизатор ответит на все ваши вопросы<br><i>Когда надоест, введите \"хватит\".</i>"
   ]
  },
  {
   "cell_type": "code",
   "execution_count": null,
   "metadata": {},
   "outputs": [],
   "source": [
    "word = ''\n",
    "while word!=\"хватит\":\n",
    "    word = input(\"Слово: \")\n",
    "    if word!=\"хватит\":\n",
    "        tag = input(\"PoS: \")\n",
    "        print('Лемма -->', wnl.lemmatize(word,pos=tag),'\\n')\n",
    "        \n",
    "    else:\n",
    "        break"
   ]
  },
  {
   "cell_type": "markdown",
   "metadata": {},
   "source": [
    "Для русской лемматизации существует библиотека ***pymorphy2***:"
   ]
  },
  {
   "cell_type": "code",
   "execution_count": null,
   "metadata": {
    "scrolled": true
   },
   "outputs": [],
   "source": [
    "### 3) Term Frequency - Document Frequency\n",
    "import pymorphy2\n",
    "from nltk import word_tokenize, sent_tokenize, pos_tag\n",
    "morph = pymorphy2.MorphAnalyzer()\n",
    "data = ['Вчера бы### 3) Term Frequency - Document Frequency\n",
    "ла достаточно приятная погода. Сходил погулять... ни капли не пожалел!']\n",
    "\n",
    "for sent in data:\n",
    "    print(sent.strip()+'\\n')\n",
    "    for sentence in sent_tokenize(sent.rstrip()):\n",
    "        print(\"Предложение:\", sentence+'\\n')\n",
    "        \n",
    "        for word in word_tokenize(sentence):\n",
    "            print(\"\\t\"+word)\n",
    "            output = morph.parse(word)\n",
    "            for info in output:\n",
    "                lema = info.normal_form\n",
    "                tag = str(info.tag)\n",
    "                #lema_score = info.score\n",
    "                print(\"\\t\\t\"+lema+\"\\t\"+tag+'\\n')"
   ]
  },
  {
   "cell_type": "markdown",
   "metadata": {},
   "source": [
    "**Стемминг** же можно осуществить с помощью модуля *SnowballStemmer* в **nltk**:"
   ]
  },
  {
   "cell_type": "code",
   "execution_count": null,
   "metadata": {},
   "outputs": [],
   "source": [
    "from nltk import word_tokenize, sent_tokenize, SnowballStemmer\n",
    "stemmer = SnowballStemmer(\"english\")\n",
    "\n",
    "print('beauties -->', stemmer.stem('beauties'))\n",
    "print('beautiful -->', stemmer.stem('beautiful'))\n",
    "print('going -->', stemmer.stem('going'))\n",
    "print('showing -->', stemmer.stem('showing'))\n",
    "print('friendships -->',stemmer.stem('friendship'))\n",
    "print('suffered -->',stemmer.stem('suffered'))"
   ]
  },
  {
   "cell_type": "code",
   "execution_count": null,
   "metadata": {},
   "outputs": [],
   "source": [
    "from nltk import word_tokenize, sent_tokenize, SnowballStemmer\n",
    "stemmer = SnowballStemmer(\"russian\")\n",
    "\n",
    "print('официанты -->', stemmer.stem('официанты'))\n",
    "print('делая -->', stemmer.stem('делая'))\n",
    "print('отвратительный -->', stemmer.stem('отвратительный'))\n",
    "print('люблю -->', stemmer.stem('люблю'))\n",
    "print('земля -->',stemmer.stem('земля'))\n",
    "print('ночь -->',stemmer.stem('ночь'))"
   ]
  },
  {
   "cell_type": "markdown",
   "metadata": {},
   "source": [
    "### <center> 4. Векторизация"
   ]
  },
  {
   "cell_type": "markdown",
   "metadata": {},
   "source": [
    "**Векторизация** - преобразование текстовых данных в вектора, которые впоследствии используются для работы с машинным обучением.<br>\n",
    "Векторизация, пожалуй, является одним из важнейших этапов в предобработке текстовых данных. \n",
    "Качество работы <i>моделей машинного обучения</i> <u>напрямую</u> зависит от качества векторного представления данных (в нашем случае, текста)"
   ]
  },
  {
   "cell_type": "markdown",
   "metadata": {},
   "source": [
    "<font color='black'>**Идея контекстуальной схожести**</font> - слова, встречающиеся в одинаковом контексте, имеют одинаковое значение"
   ]
  },
  {
   "cell_type": "markdown",
   "metadata": {},
   "source": [
    "**2 типа векторов**:\n",
    "<ul>\n",
    "    <li> Bag of Words (не основаны на идее контекстуальной схожести)</li>\n",
    "    <li> Word Embeddings (основаны на идее контекстуальной схожести) </li>\n",
    "</ul>\n",
    "\n"
   ]
  },
  {
   "cell_type": "markdown",
   "metadata": {},
   "source": [
    "### <center>**Bag of Words**</center>"
   ]
  },
  {
   "cell_type": "markdown",
   "metadata": {},
   "source": [
    "Общеприняты 3 типа построения BoW: *OHE (binary), Count Encoding (frequency), TF-IDF <br>*\n",
    "И то, и другое, и третье в одну строку нам позволяет сделать библиотека **sklearn** и соответствующие методы"
   ]
  },
  {
   "cell_type": "markdown",
   "metadata": {},
   "source": [
    "Для начала построим функцию **plot_vectors**, которая нам визуально будет отображать наши вектора:<br>"
   ]
  },
  {
   "cell_type": "code",
   "execution_count": 161,
   "metadata": {},
   "outputs": [],
   "source": [
    "def plot_vectors(X):\n",
    " \n",
    "    pca = PCA(n_components=2)\n",
    "    reduced = pca.fit_transform(X.todense()).transpose()\n",
    "    origin = [0], [0] # origin point\n",
    "    plt.xlabel('X')\n",
    "    plt.ylabel('y')\n",
    "    plt.quiver(*origin, reduced[0], reduced[1], color=['blue', 'black','red'], scale=2);"
   ]
  },
  {
   "cell_type": "code",
   "execution_count": null,
   "metadata": {},
   "outputs": [],
   "source": [
    "Есть корпус текстов, нам нужно его векторизировать. Поехали!"
   ]
  },
  {
   "cell_type": "markdown",
   "metadata": {},
   "source": [
    "### 1) One hot encoding (Binary)\n"
   ]
  },
  {
   "cell_type": "code",
   "execution_count": 156,
   "metadata": {},
   "outputs": [
    {
     "name": "stdout",
     "output_type": "stream",
     "text": [
      "Признаки нашего корпуса (уникальные слова):\n",
      "екатерина | играть | любит | майк | ну | повекторизировать | после | поспать | работы | тексты | футбол\n"
     ]
    }
   ],
   "source": [
    "from sklearn.feature_extraction.text import CountVectorizer\n",
    "\n",
    "corpus = ['Майк любит играть в футбол. Майк и футбол = <3.',\n",
    "          'Майк и футбол = <3!',\n",
    "          'А Екатерина любит после работы поспать. Ну и повекторизировать тексты.']\n",
    "\n",
    "vectorizer = CountVectorizer(binary=True) # указываем параметр \"binary\" = True \n",
    "X = vectorizer.fit_transform(corpus)\n",
    "\n",
    "print(\"Признаки нашего корпуса (уникальные слова):\")\n",
    "print(*vectorizer.get_feature_names(), sep=' | ')"
   ]
  },
  {
   "cell_type": "markdown",
   "metadata": {},
   "source": [
    "Обратите внимание на то, что CountVectorizer всё самостоятельно протокенизировал, убрал знаки препинания и понизил шрифт. В настройках параметров можно убрать эту \"самостоятельность\".<br><br>\n",
    "**А теперь посмотрим, как наши предложения векторизировались (заметьте, что единицы в векторах точно соответствуют порядку фичей сверху):**"
   ]
  },
  {
   "cell_type": "code",
   "execution_count": 157,
   "metadata": {},
   "outputs": [
    {
     "data": {
      "image/png": "[encoded data removed]",
      "text/plain": [
       "<Figure size 432x288 with 1 Axes>"
      ]
     },
     "metadata": {
      "needs_background": "light"
     },
     "output_type": "display_data"
    }
   ],
   "source": [
    "import numpy as np\n",
    "import matplotlib.pyplot as plt\n",
    "from sklearn.decomposition import PCA\n",
    "\n",
    "pca = PCA(n_components=2)\n",
    "reduced = pca.fit_transform(X.toarray())\n",
    "\n",
    "# We need a 2 x 944 array, not 944 by 2 (all X coordinates in one list)\n",
    "t = reduced.transpose()\n",
    "\n",
    "plt.scatter(t[0], t[1])\n",
    "plt.show()"
   ]
  },
  {
   "cell_type": "code",
   "execution_count": null,
   "metadata": {
    "scrolled": true
   },
   "outputs": [],
   "source": [
    "print(*[f'{i} --> {vector}' for i,vector in zip(corpus, X.toarray())], sep='\\n')"
   ]
  },
  {
   "cell_type": "markdown",
   "metadata": {},
   "source": [
    "### 2) Frequency Encoding\n"
   ]
  },
  {
   "cell_type": "code",
   "execution_count": 113,
   "metadata": {},
   "outputs": [
    {
     "name": "stdout",
     "output_type": "stream",
     "text": [
      "Майк любит играть в футбол. Майк и футбол = <3. --> [0 1 1 2 0 0 0 0 0 0 2]\n",
      "А Екатерина любит после работы поспать. Ну и повекторизировать тексты. --> [1 0 1 0 1 1 1 1 1 1 0]\n"
     ]
    }
   ],
   "source": [
    "vectorizer_count = CountVectorizer() # указываем параметр \"binary\" = False\n",
    "X = vectorizer_count.fit_transform(corpus)\n",
    "print(*[f'{i} --> {vector}' for i,vector in zip(corpus, X.toarray())], sep='\\n')"
   ]
  },
  {
   "cell_type": "markdown",
   "metadata": {},
   "source": [
    "### 3) Term Frequency - Document Frequency\n"
   ]
  },
  {
   "cell_type": "code",
   "execution_count": 141,
   "metadata": {},
   "outputs": [
    {
     "name": "stdout",
     "output_type": "stream",
     "text": [
      "Майк любит играть в футбол. Майк и футбол = <3. --> \n",
      "[0.         0.40142857 0.30529678 0.61059355 0.         0.\n",
      " 0.         0.         0.         0.         0.61059355]\n",
      "Майк и футбол = <3. --> \n",
      "[0.         0.         0.         0.70710678 0.         0.\n",
      " 0.         0.         0.         0.         0.70710678]\n",
      "А Екатерина любит после работы поспать. Ну и повекторизировать тексты. --> \n",
      "[0.36325471 0.         0.27626457 0.         0.36325471 0.36325471\n",
      " 0.36325471 0.36325471 0.36325471 0.36325471 0.        ]\n"
     ]
    }
   ],
   "source": [
    "from sklearn.feature_extraction.text import TfidfVectorizer\n",
    "\n",
    "vectorizer_tfidf = TfidfVectorizer()\n",
    "X = vectorizer_tfidf.fit_transform(corpus)\n",
    "print(*[f'{i} --> \\n{vector}' for i,vector in zip(corpus, X.toarray())], sep='\\n')"
   ]
  },
  {
   "cell_type": "code",
   "execution_count": 153,
   "metadata": {
    "scrolled": false
   },
   "outputs": [
    {
     "name": "stdout",
     "output_type": "stream",
     "text": [
      "[[-0.41819531 -0.48783783  0.90603314]\n",
      " [ 0.26554026 -0.25227297 -0.01326729]]\n"
     ]
    },
    {
     "data": {
      "image/png": "[encoded data removed]",
      "text/plain": [
       "<Figure size 432x288 with 1 Axes>"
      ]
     },
     "metadata": {
      "needs_background": "light"
     },
     "output_type": "display_data"
    }
   ],
   "source": [
    "def plot_vectors(data)\n",
    "    \n",
    "    pca = PCA(n_components=2)\n",
    "    reduced = pca.fit_transform(X.todense()).transpose()\n",
    "    origin = [0], [0] # origin point\n",
    "    plt.xlabel('X')\n",
    "    plt.ylabel('y')\n",
    "    plt.quiver(*origin, reduced[0], reduced[1], color=['blue', 'black','red'], scale=2);"
   ]
  },
  {
   "cell_type": "markdown",
   "metadata": {},
   "source": [
    "##### Обратите внимание, что 4-ая позиция в векторе, отвечающая за слово \"Майк\" имеет самое высокое значение. Почему? \n"
   ]
  }
 ],
 "metadata": {
  "kernelspec": {
   "display_name": "Python 3",
   "language": "python",
   "name": "python3"
  },
  "language_info": {
   "codemirror_mode": {
    "name": "ipython",
    "version": 3
   },
   "file_extension": ".py",
   "mimetype": "text/x-python",
   "name": "python",
   "nbconvert_exporter": "python",
   "pygments_lexer": "ipython3",
   "version": "3.7.4"
  }
 },
 "nbformat": 4,
 "nbformat_minor": 2
}
