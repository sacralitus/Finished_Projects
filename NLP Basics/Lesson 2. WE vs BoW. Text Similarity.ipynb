{
 "cells": [
  {
   "cell_type": "markdown",
   "metadata": {},
   "source": [
    "# <center>  Основы NLP </center>\n",
    "<center><img src=\"https://miro.medium.com/max/2672/1*_Nb5AADlqVQJDa0YyNFKGA.jpeg\"></center>\n",
    "<p style=\"text-align: right;\"><em>Aвтор:</em> Ян Шинкевич, Алла Тетерукова</p>\n",
    "\n",
    "## <center> Часть 2. Векторизация. Методы схожести текстовых данных"
   ]
  },
  {
   "cell_type": "markdown",
   "metadata": {},
   "source": [
    "### <center> 1. Векторизация"
   ]
  },
  {
   "cell_type": "markdown",
   "metadata": {},
   "source": [
    "**Векторизация** - преобразование текстовых данных в вектора, которые впоследствии используются для работы с машинным обучением.<br>\n",
    "Векторизация, пожалуй, является одним из важнейших этапов в предобработке текстовых данных. \n",
    "Качество работы <i>моделей машинного обучения</i> <u>напрямую</u> зависит от качества векторного представления данных (в нашем случае, текста)"
   ]
  },
  {
   "cell_type": "markdown",
   "metadata": {},
   "source": [
    "<font color='black'>**Идея контекстуальной схожести**</font> - слова, встречающиеся в одинаковом контексте, имеют одинаковое значение"
   ]
  },
  {
   "cell_type": "markdown",
   "metadata": {},
   "source": [
    "**2 типа векторов**:\n",
    "<ul>\n",
    "    <li> Bag of Words (не основаны на идее контекстуальной схожести)</li>\n",
    "    <li> Word Embeddings (основаны на идее контекстуальной схожести) </li>\n",
    "</ul>\n",
    "\n"
   ]
  },
  {
   "cell_type": "markdown",
   "metadata": {},
   "source": [
    "### <center>**Bag of Words**</center>"
   ]
  },
  {
   "cell_type": "markdown",
   "metadata": {},
   "source": [
    "Общеприняты 3 типа построения BoW: *OHE (binary), Count Encoding (frequency), TF-IDF <br>*\n",
    "И то, и другое, и третье в одну строку нам позволяет сделать библиотека **sklearn** и соответствующие методы"
   ]
  },
  {
   "cell_type": "markdown",
   "metadata": {},
   "source": [
    "Есть корпус текстов, состоящий из трех документов (предложений):"
   ]
  },
  {
   "cell_type": "code",
   "execution_count": 2,
   "metadata": {},
   "outputs": [],
   "source": [
    "corpus = ['Майк любит играть в футбол. Майк и футбол = <3.',\n",
    "          'Майк и футбол = <3!',\n",
    "          'А Екатерина любит после работы поспать. Ну и повекторизировать тексты.']"
   ]
  },
  {
   "cell_type": "markdown",
   "metadata": {},
   "source": [
    "Нам нужно всё это дело векторизировать. Поехали!<br><br><br><br>\n",
    "Для начала построим функцию **plot_vectors**, которая нам визуально будет отображать наши вектора (однако вдумываться в её содержание не нужно, она просто реализует визуализацию):<br> "
   ]
  },
  {
   "cell_type": "code",
   "execution_count": 3,
   "metadata": {},
   "outputs": [],
   "source": [
    "from sklearn.decomposition import PCA\n",
    "import numpy as np\n",
    "import matplotlib.pyplot as plt\n",
    "\n",
    "def plot_vectors(X):\n",
    "    pca = PCA(n_components=2)\n",
    "    reduced = pca.fit_transform(X.todense()).transpose()\n",
    "    origin = [0], [0] # origin point\n",
    "    plt.xlabel('X')\n",
    "    plt.ylabel('y')\n",
    "    Q1 = plt.quiver(*origin, reduced[0,0], reduced[1,0], color='blue', scale=5);\n",
    "    Q2 = plt.quiver(*origin, reduced[0,1], reduced[1,1], color='red', scale=5);\n",
    "    Q3 = plt.quiver(*origin, reduced[0,2], reduced[1,2], color='green', scale=5);\n",
    "\n",
    "    plt.legend([Q1,Q2,Q3],['Sentence 1','Sentence 2', 'Sentence 3'])\n"
   ]
  },
  {
   "cell_type": "markdown",
   "metadata": {},
   "source": [
    "\n",
    "### 1) One hot encoding (Binary)\n"
   ]
  },
  {
   "cell_type": "code",
   "execution_count": 4,
   "metadata": {},
   "outputs": [
    {
     "name": "stdout",
     "output_type": "stream",
     "text": [
      "Признаки нашего корпуса (уникальные слова):\n",
      "екатерина | играть | любит | майк | ну | повекторизировать | после | поспать | работы | тексты | футбол\n"
     ]
    }
   ],
   "source": [
    "from sklearn.feature_extraction.text import CountVectorizer\n",
    "\n",
    "vectorizer = CountVectorizer(binary=True) # создаём векторизатор, указываем параметр \"binary\" = True (бинарные вектора) \n",
    "X = vectorizer.fit_transform(corpus) # векторизируем корпус\n",
    "\n",
    "print(\"Признаки нашего корпуса (уникальные слова):\")\n",
    "print(*vectorizer.get_feature_names(), sep=' | ')"
   ]
  },
  {
   "cell_type": "markdown",
   "metadata": {},
   "source": [
    "Обратите внимание на то, что CountVectorizer всё самостоятельно протокенизировал, убрал знаки препинания и понизил шрифт. В настройках параметров можно убрать эту \"самостоятельность\".<br><br>\n",
    "**А теперь посмотрим, как наши предложения векторизировались (заметьте, что единицы в векторах точно соответствуют порядку фичей сверху):**"
   ]
  },
  {
   "cell_type": "code",
   "execution_count": 5,
   "metadata": {
    "scrolled": true
   },
   "outputs": [
    {
     "name": "stdout",
     "output_type": "stream",
     "text": [
      "Майк любит играть в футбол. Майк и футбол = <3. --> [0 1 1 1 0 0 0 0 0 0 1]\n",
      "Майк и футбол = <3! --> [0 0 0 1 0 0 0 0 0 0 1]\n",
      "А Екатерина любит после работы поспать. Ну и повекторизировать тексты. --> [1 0 1 0 1 1 1 1 1 1 0]\n"
     ]
    }
   ],
   "source": [
    "print(*[f'{i} --> {vector}' for i,vector in zip(corpus, X.toarray())], sep='\\n')"
   ]
  },
  {
   "cell_type": "markdown",
   "metadata": {},
   "source": [
    "Соответственная визуализация векторов в пространстве:"
   ]
  },
  {
   "cell_type": "code",
   "execution_count": 6,
   "metadata": {},
   "outputs": [
    {
     "data": {
      "image/png": "[encoded data removed]",
      "text/plain": [
       "<Figure size 432x288 with 1 Axes>"
      ]
     },
     "metadata": {
      "needs_background": "light"
     },
     "output_type": "display_data"
    }
   ],
   "source": [
    "plot_vectors(X)"
   ]
  },
  {
   "cell_type": "markdown",
   "metadata": {},
   "source": [
    "Приглашаю вас самостоятельно повекторизировать :) Ничего сложного, только копипаст! (но, плиз, осознанный) <br>\n",
    "Векторизируйте 3 данных предложения (находящихся в списке <b>task_1</b>) методом <em>One-Hot Encoding</em>:"
   ]
  },
  {
   "cell_type": "code",
   "execution_count": 8,
   "metadata": {},
   "outputs": [],
   "source": [
    "task_1 = ['Теория — это когда все известно, но ничего не работает.', \n",
    "          'Практика — это когда все работает, но никто не знает почему.',\n",
    "          'Мы объединяем теорию и практику: ничего не работает... и никто не знает почему!'] # (с) Эйнштейн"
   ]
  },
  {
   "cell_type": "code",
   "execution_count": 10,
   "metadata": {},
   "outputs": [],
   "source": [
    "# создаём векторизатор с параметром \"binary = True\"\n",
    "vectorizer = CountVectorizer(binary=True)\n",
    "# векторизируем наш корпус (task_1)\n",
    "task_1_vectorized = vectorizer.fit_transform(task_1)"
   ]
  },
  {
   "cell_type": "markdown",
   "metadata": {},
   "source": [
    "Смотрим красоту:"
   ]
  },
  {
   "cell_type": "code",
   "execution_count": 11,
   "metadata": {
    "scrolled": true
   },
   "outputs": [
    {
     "name": "stdout",
     "output_type": "stream",
     "text": [
      "Теория — это когда все известно, но ничего не работает. --> [1 0 1 1 0 1 0 1 1 0 0 0 0 1 0 1 1]\n",
      "Практика — это когда все работает, но никто не знает почему. --> [1 1 0 1 0 1 1 0 1 0 1 1 0 1 0 0 1]\n",
      "Мы объединяем теорию и практику: ничего не работает... и никто не знает почему! --> [0 1 0 0 1 1 1 1 0 1 1 0 1 1 1 0 0]\n"
     ]
    }
   ],
   "source": [
    "print(*[f'{i} --> {vector}' for i,vector in zip(task_1, task_1_vectorized.toarray())], sep='\\n')"
   ]
  },
  {
   "cell_type": "markdown",
   "metadata": {},
   "source": [
    "### 2) Frequency Encoding\n"
   ]
  },
  {
   "cell_type": "code",
   "execution_count": 12,
   "metadata": {},
   "outputs": [
    {
     "name": "stdout",
     "output_type": "stream",
     "text": [
      "Майк любит играть в футбол. Майк и футбол = <3. --> [0 1 1 2 0 0 0 0 0 0 2]\n",
      "Майк и футбол = <3! --> [0 0 0 1 0 0 0 0 0 0 1]\n",
      "А Екатерина любит после работы поспать. Ну и повекторизировать тексты. --> [1 0 1 0 1 1 1 1 1 1 0]\n"
     ]
    }
   ],
   "source": [
    "vectorizer_count = CountVectorizer() # указываем параметр \"binary\" = False (векторизатор считает частоты)\n",
    "X = vectorizer_count.fit_transform(corpus)\n",
    "print(*[f'{i} --> {vector}' for i,vector in zip(corpus, X.toarray())], sep='\\n')"
   ]
  },
  {
   "cell_type": "markdown",
   "metadata": {},
   "source": [
    "Соответственная визуализация векторов в пространстве:"
   ]
  },
  {
   "cell_type": "code",
   "execution_count": 13,
   "metadata": {
    "scrolled": true
   },
   "outputs": [
    {
     "data": {
      "image/png": "[encoded data removed]",
      "text/plain": [
       "<Figure size 432x288 with 1 Axes>"
      ]
     },
     "metadata": {
      "needs_background": "light"
     },
     "output_type": "display_data"
    }
   ],
   "source": [
    "plot_vectors(X)"
   ]
  },
  {
   "cell_type": "markdown",
   "metadata": {},
   "source": [
    "Tеперь провекторизируйте те же предложения, только методом <em>Frequency Encoding</em>:<br>"
   ]
  },
  {
   "cell_type": "code",
   "execution_count": 14,
   "metadata": {},
   "outputs": [],
   "source": [
    "task_2 = ['Теория — это когда все известно, но ничего не работает.', \n",
    "          'Практика — это когда все работает, но никто не знает почему.',\n",
    "          'Мы объединяем теорию и практику: ничего не работает... и никто не знает почему!'] # (с) Эйнштейн"
   ]
  },
  {
   "cell_type": "code",
   "execution_count": null,
   "metadata": {},
   "outputs": [],
   "source": [
    "# создаём векторизатор с параметром \"binary = Fasle\"\n",
    "vectorizer = \n",
    "# векторизируем наш корпус (task_2)\n",
    "task_2_vectorized = "
   ]
  },
  {
   "cell_type": "markdown",
   "metadata": {},
   "source": [
    "Отличаются вектора от предыдущих One-Hot Encoding?"
   ]
  },
  {
   "cell_type": "code",
   "execution_count": null,
   "metadata": {},
   "outputs": [],
   "source": [
    "print(*[f'{i} --> {vector}' for i,vector in zip(task_2, task_2_vectorized.toarray())], sep='\\n')"
   ]
  },
  {
   "cell_type": "markdown",
   "metadata": {},
   "source": [
    "### 3) Term Frequency - Inversed Document Frequency\n"
   ]
  },
  {
   "cell_type": "code",
   "execution_count": null,
   "metadata": {
    "scrolled": true
   },
   "outputs": [],
   "source": [
    "from sklearn.feature_extraction.text import TfidfVectorizer\n",
    "\n",
    "vectorizer_tfidf = TfidfVectorizer() # создание векторизатора (применяется формула tf-idf)\n",
    "X = vectorizer_tfidf.fit_transform(corpus) # векторизация корпуса\n",
    "print(*[f'{i} --> \\n{vector}' for i,vector in zip(corpus, X.toarray())], sep='\\n')"
   ]
  },
  {
   "cell_type": "markdown",
   "metadata": {},
   "source": [
    "##### Обратите внимание, что 4-ая позиция в векторе, отвечающая за слово \"Майк\" имеет самое высокое значение. Почему? \n"
   ]
  },
  {
   "cell_type": "markdown",
   "metadata": {},
   "source": [
    "Соответственная визуализация векторов в пространстве:"
   ]
  },
  {
   "cell_type": "code",
   "execution_count": null,
   "metadata": {
    "scrolled": true
   },
   "outputs": [],
   "source": [
    "plot_vectors(X)"
   ]
  },
  {
   "cell_type": "markdown",
   "metadata": {},
   "source": [
    "**Как видим, визуально 3 типа <i>BoW векторов</i> практически не отличаются, за исключением их длины. <br>Однако нужно помнить, что визуализация в данном конкретном случае априори даёт поверхностные результаты ввиду малого размера корпуса и снижения размерностей с N-D до 2D. <br> Визуализация здесь призвана взглянуть на данные беспристрастно, без глубокого анализа и выводов.\n",
    "На практике и вычислениях 3 типа векторов могут давать ощутимо разные результаты, например, в Машинном Обучении.** <br><br><br>"
   ]
  },
  {
   "cell_type": "markdown",
   "metadata": {},
   "source": [
    "Ну и напоследок провекторизируйте тот же текст методом <em>TF-IDF</em>:<br>"
   ]
  },
  {
   "cell_type": "code",
   "execution_count": null,
   "metadata": {},
   "outputs": [],
   "source": [
    "task_3 = ['Теория — это когда все известно, но ничего не работает.', \n",
    "          'Практика — это когда все работает, но никто не знает почему.',\n",
    "          'Мы объединяем теорию и практику: ничего не работает... и никто не знает почему!'] # (с) Эйнштейн"
   ]
  },
  {
   "cell_type": "code",
   "execution_count": null,
   "metadata": {},
   "outputs": [],
   "source": [
    "# создаём векторизатор\n",
    "vectorizer = \n",
    "# векторизируем наш корпус (task_3)\n",
    "task_3_vectorized = "
   ]
  },
  {
   "cell_type": "markdown",
   "metadata": {},
   "source": [
    "Наши TF-IDF вектора :)"
   ]
  },
  {
   "cell_type": "code",
   "execution_count": null,
   "metadata": {},
   "outputs": [],
   "source": [
    "print(*[f'{i} --> {vector}' for i,vector in zip(task_3, task_3_vectorized.toarray())], sep='\\n')"
   ]
  },
  {
   "cell_type": "markdown",
   "metadata": {},
   "source": [
    "**Просмотрите 3 вида графика(про Майка и Екатерину). Как видим, визуально 3 типа <i>BoW векторов</i> практически не отличаются, за исключением их длины.<br>Однако нужно помнить, что визуализация в данном конкретном случае априори даёт поверхностные результаты ввиду малого размера корпуса и снижения размерностей с N-D до 2D. <br> Визуализация здесь призвана взглянуть на данные беспристрастно, без глубокого анализа и выводов.\n",
    "На практике и вычислениях 3 типа векторов могут давать ощутимо разные результаты, например, в Машинном Обучении.** <br><br><br>"
   ]
  },
  {
   "cell_type": "markdown",
   "metadata": {},
   "source": [
    "### <center> Word Embeddings"
   ]
  },
  {
   "cell_type": "markdown",
   "metadata": {},
   "source": [
    "В данном уроке мы научимся строить один из видов Word Embeddings - **GloVe** <br>\n",
    "Реализовать данный тип векторов можно двумя способами: использовать заранее натренированные вектора (pretrained) либо же натренировать собственные вектора на своём корпусе текста.<br>\n",
    "Используем заранее натренированные вектора, предварительно их скачав.<br>"
   ]
  },
  {
   "cell_type": "markdown",
   "metadata": {},
   "source": [
    "Для различных манипуляций с Word Embeddings используется библиотека **gensim**.<br>\n",
    "Тут сразу мы можем использовать gensim.downloader, который позволяет скачать готовые натренированные вектора. <br>\n",
    "Команда ниже покажет список <i>pretrained vectors</i>, которые мы можем скачать."
   ]
  },
  {
   "cell_type": "code",
   "execution_count": 17,
   "metadata": {
    "scrolled": false
   },
   "outputs": [
    {
     "data": {
      "text/plain": [
       "dict_keys(['fasttext-wiki-news-subwords-300', 'conceptnet-numberbatch-17-06-300', 'word2vec-ruscorpora-300', 'word2vec-google-news-300', 'glove-wiki-gigaword-50', 'glove-wiki-gigaword-100', 'glove-wiki-gigaword-200', 'glove-wiki-gigaword-300', 'glove-twitter-25', 'glove-twitter-50', 'glove-twitter-100', 'glove-twitter-200', '__testing_word2vec-matrix-synopsis'])"
      ]
     },
     "execution_count": 17,
     "metadata": {},
     "output_type": "execute_result"
    }
   ],
   "source": [
    "import gensim.downloader as api\n",
    "api.info()['models'].keys()"
   ]
  },
  {
   "cell_type": "markdown",
   "metadata": {},
   "source": [
    "Скачаем вектора **GloVe** (\"glove-twitter-50\"). <br>\n",
    "<i>P.S.</i> Цифра в названии обозначает размерность векторов (в нашем случае, это 50 размерностей)"
   ]
  },
  {
   "cell_type": "code",
   "execution_count": 18,
   "metadata": {
    "scrolled": true
   },
   "outputs": [],
   "source": [
    "glove_model = api.load('glove-twitter-50')"
   ]
  },
  {
   "cell_type": "markdown",
   "metadata": {},
   "source": [
    "С таким же успехом можно скачать любые вектора из списка, например **Word2Vec** (\"word2vec-google-news-300\") и использовать их. <br><br><br>"
   ]
  },
  {
   "cell_type": "markdown",
   "metadata": {},
   "source": [
    "Чтобы посмотреть вектор отдельно взятого слова, выполните следующую команду:<br>"
   ]
  },
  {
   "cell_type": "code",
   "execution_count": 20,
   "metadata": {},
   "outputs": [
    {
     "name": "stdout",
     "output_type": "stream",
     "text": [
      "Вектор для слова machine:\n",
      "\n",
      " [-0.52532    0.081229  -0.52176   -0.11272    0.60648    0.83593\n",
      "  0.49823   -0.22273    0.87588   -0.58191    0.36202    0.28068\n",
      " -3.2669    -0.17073    0.4537     0.40976    0.40539   -0.059709\n",
      " -0.31738    0.1908    -1.0718     0.32267    0.75453   -0.12899\n",
      "  0.27069    0.12549   -0.33467    0.25927    0.20255    0.28813\n",
      "  0.015521  -0.26102   -0.54686   -0.8172     0.70652    0.21169\n",
      "  0.31914   -0.30771    0.52501    0.0034859 -0.050807   0.10527\n",
      " -1.4289     0.09056    0.27161   -0.046947  -0.25537    0.48839\n",
      "  0.16062   -0.13892  ]\n"
     ]
    }
   ],
   "source": [
    "print('Вектор для слова machine:\\n\\n', glove_model['machine'])"
   ]
  },
  {
   "cell_type": "markdown",
   "metadata": {},
   "source": [
    "Библиотека **gensim** предлагает некоторые удобные методы для работы с векторами.<br> Рассмотрим принцип работы методов ***most_similar***, ***similarity*** и ***doesnt_match***."
   ]
  },
  {
   "cell_type": "code",
   "execution_count": 21,
   "metadata": {},
   "outputs": [
    {
     "data": {
      "text/plain": [
       "[('maker', 0.8371292948722839),\n",
       " ('machines', 0.7971112132072449),\n",
       " ('system', 0.7909086346626282),\n",
       " ('speed', 0.7818098664283752),\n",
       " ('box', 0.7769679427146912),\n",
       " ('power', 0.7734754085540771),\n",
       " ('works', 0.7733843326568604),\n",
       " ('range', 0.7720150947570801),\n",
       " ('pack', 0.7625550627708435),\n",
       " ('wheel', 0.7614147067070007)]"
      ]
     },
     "execution_count": 21,
     "metadata": {},
     "output_type": "execute_result"
    }
   ],
   "source": [
    "# Метод most_similar выдаёт совокупность наиболее близких слов\n",
    "\n",
    "glove_model.most_similar('machine')"
   ]
  },
  {
   "cell_type": "code",
   "execution_count": 22,
   "metadata": {
    "scrolled": true
   },
   "outputs": [
    {
     "data": {
      "text/plain": [
       "[('tofu', 0.8861748576164246),\n",
       " ('oxtail', 0.8699914813041687),\n",
       " ('grilled', 0.8696364164352417),\n",
       " ('shrimp', 0.8589828014373779),\n",
       " ('salad', 0.8481665849685669),\n",
       " ('noodle', 0.8467095494270325),\n",
       " ('sausage', 0.8313101530075073),\n",
       " ('stew', 0.829114556312561),\n",
       " ('asparagus', 0.8277292847633362),\n",
       " ('roast', 0.8276288509368896)]"
      ]
     },
     "execution_count": 22,
     "metadata": {},
     "output_type": "execute_result"
    }
   ],
   "source": [
    "glove_model.most_similar(['soup','cutlet'])"
   ]
  },
  {
   "cell_type": "markdown",
   "metadata": {},
   "source": [
    "Указывая параметры **positive** и **negative**, можно осуществить принцип аналогий в эмбеддингах. <br>\n",
    "В примере ниже работает формула <i> princess - woman + man = </i>...<br> \n",
    "Также можно интерпретировать метод следующим образом: <u><i>princess</i> относится к <i>woman</i>, как <i>man</i> к ...</u>"
   ]
  },
  {
   "cell_type": "code",
   "execution_count": 23,
   "metadata": {},
   "outputs": [
    {
     "data": {
      "text/plain": [
       "[('baby', 0.8042939305305481),\n",
       " ('boy', 0.7611554265022278),\n",
       " ('miss', 0.7536491751670837),\n",
       " ('nat', 0.7529505491256714),\n",
       " ('aw', 0.7504269480705261),\n",
       " ('haha', 0.7502609491348267),\n",
       " ('bang', 0.7492635846138),\n",
       " ('hahaha', 0.7488009333610535),\n",
       " ('hahah', 0.7473467588424683),\n",
       " ('oh', 0.745634913444519)]"
      ]
     },
     "execution_count": 23,
     "metadata": {},
     "output_type": "execute_result"
    }
   ],
   "source": [
    "glove_model.most_similar(positive=['princess','man'], negative=['woman'])"
   ]
  },
  {
   "cell_type": "markdown",
   "metadata": {},
   "source": [
    "Можно сравнить близость двух слов методом **similarity**."
   ]
  },
  {
   "cell_type": "code",
   "execution_count": 24,
   "metadata": {},
   "outputs": [
    {
     "name": "stdout",
     "output_type": "stream",
     "text": [
      "Biology & chemistry: 0.8155622\n",
      "Biology & cutlet: -0.03730331\n",
      "Light & dark: 0.8538594\n",
      "Obama & Putin: 0.5976629\n",
      "Obama & America: 0.7415774\n",
      "Putin & America: 0.42130154\n",
      "America & Yan: 0.20844042\n"
     ]
    }
   ],
   "source": [
    "print('Biology & chemistry:', glove_model.similarity('biology','chemistry'))\n",
    "print('Biology & cutlet:', glove_model.similarity('biology','cutlet'))\n",
    "print('Light & dark:', glove_model.similarity('light','dark'))\n",
    "print('Obama & Putin:', glove_model.similarity('obama','putin'))\n",
    "print('Obama & America:', glove_model.similarity('obama','america'))\n",
    "print('Putin & America:', glove_model.similarity('putin','america'))\n",
    "print('America & Yan:', glove_model.similarity('america','yan'))"
   ]
  },
  {
   "cell_type": "markdown",
   "metadata": {},
   "source": [
    "А найти лишнее поможет метод **doesnt_match**:"
   ]
  },
  {
   "cell_type": "code",
   "execution_count": 26,
   "metadata": {},
   "outputs": [
    {
     "name": "stdout",
     "output_type": "stream",
     "text": [
      "violin\n",
      "михайлов\n",
      "methodology\n"
     ]
    }
   ],
   "source": [
    "print(glove_model.doesnt_match(['pop','rock','rap', 'violin']))\n",
    "print(glove_model.doesnt_match(['obama','putin','clinton','михайлов']))\n",
    "print(glove_model.doesnt_match(['zoology','botany','methodology','bacteriology']))"
   ]
  },
  {
   "cell_type": "markdown",
   "metadata": {},
   "source": [
    "**<font color='red' size=5> ! </font> Чтобы получить эмбеддинг всего предложения, нужно взять среднее арифметическое векторов всех слов данного предложения <font color='red' size=5> ! </font>**"
   ]
  },
  {
   "cell_type": "code",
   "execution_count": 27,
   "metadata": {
    "scrolled": true
   },
   "outputs": [
    {
     "name": "stdout",
     "output_type": "stream",
     "text": [
      "Вектор всего предложения:\n",
      "\n",
      " [-0.20134501  0.44305167  0.48460016 -0.03513001 -0.55350584  0.08964068\n",
      "  0.48220834 -0.075981   -0.16434033  0.27694333  0.1408695   0.01081634\n",
      " -4.668733   -0.25597867  0.24405424  0.02597    -0.28293464 -0.38173667\n",
      " -0.36736    -0.32685882  0.35694718  0.3393785  -0.04091484  0.04770432\n",
      " -0.081977    0.7676508  -0.2934283  -0.44473663 -0.10979684 -0.22961001\n",
      " -0.09845633  0.30936334 -0.267525   -0.01611855 -0.15457366  0.27462664\n",
      " -0.22578667 -0.09766499 -0.45198834 -0.06148845 -0.18504338  0.30317268\n",
      "  0.35094917 -0.11058167  0.22327667 -0.77966666  0.36488834 -0.1692007\n",
      " -0.30927566 -0.03264233]\n"
     ]
    }
   ],
   "source": [
    "import numpy\n",
    "\n",
    "sentence = \"I've never been so cheated and robbed\"\n",
    "\n",
    "# создаем список vectors, в который помещаем вектора каждого слова в предложении \n",
    "# если слова нет в модели, то в список оно не включается\n",
    "\n",
    "vectors = [glove_model[word.lower()] for word in sentence.split() if word in glove_model.vocab]\n",
    "\n",
    "# с помощью метода mean библиотеки numpy, находим среднее всех векторов в списке\n",
    "\n",
    "sentence_vector = numpy.mean(vectors, axis=0)\n",
    "\n",
    "\n",
    "print(\"Вектор всего предложения:\\n\\n\", sentence_vector)"
   ]
  },
  {
   "cell_type": "markdown",
   "metadata": {},
   "source": [
    "## <br><br><center> 2. Меры схожести текстовых данных"
   ]
  },
  {
   "cell_type": "markdown",
   "metadata": {},
   "source": [
    "Существует огромное количество способов сравнения текстовых данных. <br>\n",
    "Мы остановимся на ***методе Джакарта*** и ***Косинусной мере***."
   ]
  },
  {
   "cell_type": "markdown",
   "metadata": {},
   "source": [
    "**Метод Джакарта** <br>\n",
    "\n",
    "Суть проста - найти пересечение двух (трёх и более) множеств и посчитать в нём количество элементов. <br>\n",
    "Все операции можно осуществить с помощью стандартных Питонячих методов:"
   ]
  },
  {
   "cell_type": "code",
   "execution_count": 28,
   "metadata": {},
   "outputs": [],
   "source": [
    "# даны два текста \n",
    "\n",
    "sent1 = \"\"\"Чтобы стать профессионалом в своём деле, нужно упасть бесчисленное количество раз.\n",
    "           Падая и поднимаясь вновь, ты обретаешь силу воли и становишься опытнее, чем ты был до падения\"\"\"\n",
    "sent2 = \"\"\"Добиться успеха - значит пройти тысячу преград, падений, и доказать себе и всем, \n",
    "           что ты - профессионал в своём деле.\"\"\""
   ]
  },
  {
   "cell_type": "code",
   "execution_count": 29,
   "metadata": {},
   "outputs": [
    {
     "name": "stdout",
     "output_type": "stream",
     "text": [
      "Множество слов первого текста:\n",
      " {'своём', 'профессионалом', 'до', 'опытнее,', 'обретаешь', 'бесчисленное', 'чем', 'деле,', 'силу', 'нужно', 'количество', 'падения', 'поднимаясь', 'был', 'чтобы', 'воли', 'вновь,', 'стать', 'в', 'падая', 'становишься', 'упасть', 'ты', 'и', 'раз.'} \n",
      "\n",
      "Множество слов второго текста:\n",
      " {'пройти', 'в', 'тысячу', 'профессионал', 'ты', 'что', 'своём', 'доказать', 'падений,', 'значит', '-', 'себе', 'всем,', 'и', 'преград,', 'добиться', 'деле.', 'успеха'}\n"
     ]
    }
   ],
   "source": [
    "# в первую очередь - создадим множества двух текстов\n",
    "\n",
    "sent1_set = set(sent1.lower().split())\n",
    "sent2_set = set(sent2.lower().split())\n",
    "\n",
    "print('Множество слов первого текста:\\n', sent1_set, \"\\n\")\n",
    "print('Множество слов второго текста:\\n', sent2_set)"
   ]
  },
  {
   "cell_type": "code",
   "execution_count": 30,
   "metadata": {
    "scrolled": false
   },
   "outputs": [
    {
     "name": "stdout",
     "output_type": "stream",
     "text": [
      "Схожесть двух предложений по методу Джакарта: 10.26 %\n"
     ]
    }
   ],
   "source": [
    "# теперь найдем пересечение двух множеств\n",
    "intersection = sent1_set.intersection(sent2_set)\n",
    "\n",
    "# объединяем первое множество со вторым\n",
    "union = sent1_set.union(sent2_set)\n",
    "\n",
    "# находим отношение пересечения множеств к их объединению \n",
    "similarity = len(intersection)/(len(union))\n",
    "\n",
    "print(\"Схожесть двух предложений по методу Джакарта: {:.2f} %\".format(similarity*100))"
   ]
  },
  {
   "cell_type": "markdown",
   "metadata": {},
   "source": [
    "Не очень много... Подумайте, что нужно сделать с двумя текстами, чтобы повысить это число.<br>"
   ]
  },
  {
   "cell_type": "markdown",
   "metadata": {},
   "source": [
    "**Косинусная мера** <br>\n",
    "\n",
    "<br>В данном методе работа идёт уже непосредственно с *векторами* текстов.<br> **Сравнивая их, косинусная мера выдаёт число от -1 до 1 (отрицательные значения встречаются крайне редко).** Чем выше значение, тем ближе в пространстве находятся вектора (тексты).<br><br>\n",
    "Мы уже познакомились с BoW и Word Embeddings (GloVe). <br>Сначала векторизируем наши тексты (sent1, sent2) 3 типами BoW. Начнём с ОНЕ:"
   ]
  },
  {
   "cell_type": "code",
   "execution_count": 31,
   "metadata": {},
   "outputs": [
    {
     "name": "stdout",
     "output_type": "stream",
     "text": [
      "Вектора предложений:\n",
      " [[1 1 1 1 0 1 1 0 0 0 1 1 1 1 1 0 1 1 0 0 0 1 1 1 0 1 1 1 1 0 1 0 1 0 1]\n",
      " [0 0 0 0 1 1 0 1 1 1 0 0 0 0 0 1 0 0 1 1 1 0 0 1 1 0 0 0 1 1 0 1 0 1 0]]\n"
     ]
    }
   ],
   "source": [
    "# векторизация OHE\n",
    "\n",
    "vectorizer = CountVectorizer(binary=True) # указываем параметр \"binary\" = True \n",
    "vectorized_texts = vectorizer.fit_transform([sent1, sent2]) # векторизируем 2 предложения, поместив их в список\n",
    "\n",
    "print(\"Вектора предложений:\\n\", vectorized_texts.toarray())"
   ]
  },
  {
   "cell_type": "markdown",
   "metadata": {},
   "source": [
    "Чтобы найти косинусное сходство этих векторов, достанем соответствующий метод из библиотеки **sklearn** и запустим туда два наших вектора:"
   ]
  },
  {
   "cell_type": "code",
   "execution_count": 32,
   "metadata": {},
   "outputs": [
    {
     "name": "stdout",
     "output_type": "stream",
     "text": [
      "Косинусная мера (OHE): 0.16\n"
     ]
    }
   ],
   "source": [
    "from sklearn.metrics.pairwise import cosine_similarity\n",
    "\n",
    "print(\"Косинусная мера (OHE): {:.2f}\".format(cosine_similarity(vectorized_texts[0], vectorized_texts[1])[0][0]))"
   ]
  },
  {
   "cell_type": "markdown",
   "metadata": {},
   "source": [
    "Аналогично, копипастом, повторите операции с Frequency Encoding и TF-IDF (векторизация, потом косинусная мера). Для этого нужно вернуться выше и посмотреть соответственный раздел <b>Bag of Words</b>"
   ]
  },
  {
   "cell_type": "code",
   "execution_count": null,
   "metadata": {},
   "outputs": [],
   "source": [
    "# векторизация Frequency Encoding\n",
    "vectorizer = \n",
    "vectorized_texts = \n",
    "print(\"Косинусная мера (Frequncy Encoding): {:.2f}\".format(cosine_similarity(vectorized_texts[0], vectorized_texts[1])[0][0]))"
   ]
  },
  {
   "cell_type": "code",
   "execution_count": null,
   "metadata": {},
   "outputs": [],
   "source": [
    "# векторизация TF-IDF\n",
    "vectorizer = \n",
    "vectorized_texts = \n",
    "print(\"Косинусная мера (TF-IDF): {:.2f}\".format(cosine_similarity(vectorized_texts[0], vectorized_texts[1])[0][0]))"
   ]
  },
  {
   "cell_type": "markdown",
   "metadata": {},
   "source": [
    "### <br><br> Ну что ж, пришло время для эмбеддингов! Посмотрим, какое значение косинусной меры выдадут они. <br>\n",
    "Первым делом вспомним, что для того, чтобы получить эмбеддинг целого предложения, нам нужно найти среднее арифметическое векторов всех слов, составляющих это предложение (текст). "
   ]
  },
  {
   "cell_type": "code",
   "execution_count": null,
   "metadata": {},
   "outputs": [],
   "source": [
    "# найдем вектор для первого предложения \n",
    "\n",
    "sent1_vectors = [glove_model[word.lower()] for word in sent1.split() if word in glove_model.vocab]\n",
    "sent1_vector = numpy.mean(sent1_vectors, axis=0)"
   ]
  },
  {
   "cell_type": "code",
   "execution_count": null,
   "metadata": {},
   "outputs": [],
   "source": [
    "# найдите вектор для второго предложения самостоятельно (копипаст с заменой sent1 на cами подумайте какой sent)\n",
    "\n",
    "sent2_vectors = \n",
    "sent2_vector = "
   ]
  },
  {
   "cell_type": "markdown",
   "metadata": {},
   "source": [
    "Косинусная мера двух эмбеддингов:"
   ]
  },
  {
   "cell_type": "code",
   "execution_count": null,
   "metadata": {},
   "outputs": [],
   "source": [
    "cos_sim = cosine_similarity(sent1_vector.reshape(1,-1), sent2_vector.reshape(1,-1)) \n",
    "\n",
    "# заметьте, что к векторам применен метод reshape, который меняет размерность (просто так надо) \n",
    "# для особо любопытных - Google\n",
    "\n",
    "print(\"Косинусная мера (GloVe): {:.3f}\".format(cos_sim[0,0]))"
   ]
  },
  {
   "cell_type": "markdown",
   "metadata": {},
   "source": [
    "Вот так GloVe нашёл семантическую близость двух предложений, которые написаны по-разному, но имеют общий смысл :)\n",
    "<br>Теперь, чтобы еще больше почувствовать всю магию, проделайте аналогичную работу самостоятельно"
   ]
  },
  {
   "cell_type": "markdown",
   "metadata": {},
   "source": [
    "## <br><br><center> Задание"
   ]
  },
  {
   "cell_type": "markdown",
   "metadata": {},
   "source": [
    "Даны 2 предложения, рассказывающие об одном персонаже, но разными словами. <br>\n",
    "*Сравните предложения сначала **методом Джакарда**, а потом **косинусной мерой** на 4 типах векторов (OHE, Frequency Encoding, TF-IDF, GloVe). <br>*\n",
    "p.s. Кто откроет прошлый урок, определенным образом обработает предложения и добьётся наибольшей схожести данных методом Джакарта, получит +1 балл куда-нибудь :) "
   ]
  },
  {
   "cell_type": "code",
   "execution_count": null,
   "metadata": {},
   "outputs": [],
   "source": [
    "sent1 = \"\"\"German composer and musician of the Baroque period. He is known for instrumental compositions such as the Art of Fugue, \n",
    "the Brandenburg Concertos, and the Goldberg Variations, and for vocal music such as the St Matthew Passion and the Mass \n",
    "in B minor. He has been generally regarded as one of the greatest composers of the Western art musical canon\"\"\"\n",
    "\n",
    "sent2 = \"\"\"His style is baroque, characterised by lots of notes, simple motoric rhythms,\n",
    "and steady shifts of underlying harmony - it was derided by some as 'sewing-machine music'. \n",
    "But he explored harmony much more deeply than other composers of the time: compared to say Handel or Vivaldi, \n",
    "his music can contain extraordinarily 'jazzy' chords and surprising dissonance, \n",
    "and will jump off to many different harmonic areas.\"\"\""
   ]
  },
  {
   "cell_type": "markdown",
   "metadata": {},
   "source": [
    "<b>Метод Джакарда</b>:"
   ]
  },
  {
   "cell_type": "code",
   "execution_count": null,
   "metadata": {},
   "outputs": [],
   "source": []
  },
  {
   "cell_type": "code",
   "execution_count": null,
   "metadata": {},
   "outputs": [],
   "source": []
  },
  {
   "cell_type": "code",
   "execution_count": null,
   "metadata": {},
   "outputs": [],
   "source": []
  },
  {
   "cell_type": "markdown",
   "metadata": {},
   "source": [
    "<b>Косинусная мера</b>:"
   ]
  },
  {
   "cell_type": "markdown",
   "metadata": {},
   "source": [
    "На вход векторизатору нужен список. Мы его и создаём. Тут список <em>sentences</em> - аналог того же corpus, не пугайтесь!"
   ]
  },
  {
   "cell_type": "code",
   "execution_count": null,
   "metadata": {},
   "outputs": [],
   "source": [
    "sentences = [sent1, sent2]"
   ]
  },
  {
   "cell_type": "code",
   "execution_count": null,
   "metadata": {},
   "outputs": [],
   "source": [
    "# векторизация OHE и cosine similarity\n"
   ]
  },
  {
   "cell_type": "code",
   "execution_count": null,
   "metadata": {},
   "outputs": [],
   "source": [
    "# векторизация Frequency Encoding и cosine similarity \n"
   ]
  },
  {
   "cell_type": "code",
   "execution_count": null,
   "metadata": {},
   "outputs": [],
   "source": [
    "# векторизация TF-IDF и cosine similarity \n"
   ]
  },
  {
   "cell_type": "code",
   "execution_count": null,
   "metadata": {},
   "outputs": [],
   "source": [
    "# Embeddings и cosine similarity \n"
   ]
  }
 ],
 "metadata": {
  "kernelspec": {
   "display_name": "Python 3",
   "language": "python",
   "name": "python3"
  },
  "language_info": {
   "codemirror_mode": {
    "name": "ipython",
    "version": 3
   },
   "file_extension": ".py",
   "mimetype": "text/x-python",
   "name": "python",
   "nbconvert_exporter": "python",
   "pygments_lexer": "ipython3",
   "version": "3.7.4"
  }
 },
 "nbformat": 4,
 "nbformat_minor": 2
}
